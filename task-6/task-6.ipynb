{
 "cells": [
  {
   "cell_type": "markdown",
   "metadata": {},
   "source": [
    "# Тема \"Обучение с учителем\""
   ]
  },
  {
   "cell_type": "code",
   "execution_count": 34,
   "metadata": {},
   "outputs": [],
   "source": [
    "import numpy as np\n",
    "import pandas as pd\n",
    "from sklearn.datasets import load_boston"
   ]
  },
  {
   "cell_type": "code",
   "execution_count": 14,
   "metadata": {},
   "outputs": [],
   "source": [
    "def reduce_mem_usage(df):\n",
    "    \"\"\" iterate through all the columns of a dataframe and modify the data type\n",
    "        to reduce memory usage.        \n",
    "    \"\"\"\n",
    "    start_mem = df.memory_usage().sum() / 1024**2\n",
    "    print('Memory usage of dataframe is {:.2f} MB'.format(start_mem))\n",
    "    \n",
    "    for col in df.columns:\n",
    "        col_type = df[col].dtype\n",
    "        \n",
    "        if col_type != object:\n",
    "            c_min = df[col].min()\n",
    "            c_max = df[col].max()\n",
    "            if str(col_type)[:3] == 'int':\n",
    "                if c_min > np.iinfo(np.int8).min and c_max < np.iinfo(np.int8).max:\n",
    "                    df[col] = df[col].astype(np.int8)\n",
    "                elif c_min > np.iinfo(np.int16).min and c_max < np.iinfo(np.int16).max:\n",
    "                    df[col] = df[col].astype(np.int16)\n",
    "                elif c_min > np.iinfo(np.int32).min and c_max < np.iinfo(np.int32).max:\n",
    "                    df[col] = df[col].astype(np.int32)\n",
    "                elif c_min > np.iinfo(np.int64).min and c_max < np.iinfo(np.int64).max:\n",
    "                    df[col] = df[col].astype(np.int64)  \n",
    "            else:\n",
    "                if c_min > np.finfo(np.float16).min and c_max < np.finfo(np.float16).max:\n",
    "                    df[col] = df[col].astype(np.float16)\n",
    "                elif c_min > np.finfo(np.float32).min and c_max < np.finfo(np.float32).max:\n",
    "                    df[col] = df[col].astype(np.float32)\n",
    "                else:\n",
    "                    df[col] = df[col].astype(np.float64)\n",
    "        else:\n",
    "            df[col] = df[col].astype('category')\n",
    "\n",
    "    end_mem = df.memory_usage().sum() / 1024**2\n",
    "    print('Memory usage after optimization is: {:.2f} MB'.format(end_mem))\n",
    "    print('Decreased by {:.1f}%'.format(100 * (start_mem - end_mem) / start_mem))\n",
    "    \n",
    "    return df"
   ]
  },
  {
   "cell_type": "markdown",
   "metadata": {},
   "source": [
    "## Задание 1"
   ]
  },
  {
   "cell_type": "markdown",
   "metadata": {},
   "source": [
    "Импортируйте библиотеки `pandas` и `numpy`.\n",
    "Загрузите \"Boston House Prices dataset\" из встроенных наборов данных библиотеки `sklearn`. Создайте датафреймы `X` и `Y` из этих данных. <br>\n",
    "Разбейте эти датафреймы на тренировочные (`X_train`, `y_train`) и тестовые (`X_test`, `y_test`) с помощью функции `train_test_split` так, чтобы размер тестовой выборки составлял 30% от всех данных, при этом аргумент `random_state` должен быть равен 42. <br>\n",
    "Создайте модель линейной регрессии под названием `lr` с помощью класса `LinearRegression` из модуля\n",
    "`sklearn.linear_model`. <br>\n",
    "Обучите модель на тренировочных данных (используйте все признаки) и сделайте предсказание на\n",
    "тестовых. <br>\n",
    "Вычислите `R2` полученных предказаний с помощью `r2_score` из модуля `sklearn.metrics`. "
   ]
  },
  {
   "cell_type": "code",
   "execution_count": 5,
   "metadata": {},
   "outputs": [
    {
     "data": {
      "text/plain": [
       "dict_keys(['data', 'target', 'feature_names', 'DESCR', 'filename'])"
      ]
     },
     "execution_count": 5,
     "metadata": {},
     "output_type": "execute_result"
    }
   ],
   "source": [
    "boston = load_boston()\n",
    "boston.keys()"
   ]
  },
  {
   "cell_type": "code",
   "execution_count": 12,
   "metadata": {},
   "outputs": [
    {
     "data": {
      "text/html": [
       "<div>\n",
       "<style scoped>\n",
       "    .dataframe tbody tr th:only-of-type {\n",
       "        vertical-align: middle;\n",
       "    }\n",
       "\n",
       "    .dataframe tbody tr th {\n",
       "        vertical-align: top;\n",
       "    }\n",
       "\n",
       "    .dataframe thead th {\n",
       "        text-align: right;\n",
       "    }\n",
       "</style>\n",
       "<table border=\"1\" class=\"dataframe\">\n",
       "  <thead>\n",
       "    <tr style=\"text-align: right;\">\n",
       "      <th></th>\n",
       "      <th>CRIM</th>\n",
       "      <th>ZN</th>\n",
       "      <th>INDUS</th>\n",
       "      <th>CHAS</th>\n",
       "      <th>NOX</th>\n",
       "      <th>RM</th>\n",
       "      <th>AGE</th>\n",
       "      <th>DIS</th>\n",
       "      <th>RAD</th>\n",
       "      <th>TAX</th>\n",
       "      <th>PTRATIO</th>\n",
       "      <th>B</th>\n",
       "      <th>LSTAT</th>\n",
       "    </tr>\n",
       "  </thead>\n",
       "  <tbody>\n",
       "    <tr>\n",
       "      <th>0</th>\n",
       "      <td>0.00632</td>\n",
       "      <td>18.0</td>\n",
       "      <td>2.31</td>\n",
       "      <td>0.0</td>\n",
       "      <td>0.538</td>\n",
       "      <td>6.575</td>\n",
       "      <td>65.2</td>\n",
       "      <td>4.0900</td>\n",
       "      <td>1.0</td>\n",
       "      <td>296.0</td>\n",
       "      <td>15.3</td>\n",
       "      <td>396.90</td>\n",
       "      <td>4.98</td>\n",
       "    </tr>\n",
       "    <tr>\n",
       "      <th>1</th>\n",
       "      <td>0.02731</td>\n",
       "      <td>0.0</td>\n",
       "      <td>7.07</td>\n",
       "      <td>0.0</td>\n",
       "      <td>0.469</td>\n",
       "      <td>6.421</td>\n",
       "      <td>78.9</td>\n",
       "      <td>4.9671</td>\n",
       "      <td>2.0</td>\n",
       "      <td>242.0</td>\n",
       "      <td>17.8</td>\n",
       "      <td>396.90</td>\n",
       "      <td>9.14</td>\n",
       "    </tr>\n",
       "    <tr>\n",
       "      <th>2</th>\n",
       "      <td>0.02729</td>\n",
       "      <td>0.0</td>\n",
       "      <td>7.07</td>\n",
       "      <td>0.0</td>\n",
       "      <td>0.469</td>\n",
       "      <td>7.185</td>\n",
       "      <td>61.1</td>\n",
       "      <td>4.9671</td>\n",
       "      <td>2.0</td>\n",
       "      <td>242.0</td>\n",
       "      <td>17.8</td>\n",
       "      <td>392.83</td>\n",
       "      <td>4.03</td>\n",
       "    </tr>\n",
       "    <tr>\n",
       "      <th>3</th>\n",
       "      <td>0.03237</td>\n",
       "      <td>0.0</td>\n",
       "      <td>2.18</td>\n",
       "      <td>0.0</td>\n",
       "      <td>0.458</td>\n",
       "      <td>6.998</td>\n",
       "      <td>45.8</td>\n",
       "      <td>6.0622</td>\n",
       "      <td>3.0</td>\n",
       "      <td>222.0</td>\n",
       "      <td>18.7</td>\n",
       "      <td>394.63</td>\n",
       "      <td>2.94</td>\n",
       "    </tr>\n",
       "    <tr>\n",
       "      <th>4</th>\n",
       "      <td>0.06905</td>\n",
       "      <td>0.0</td>\n",
       "      <td>2.18</td>\n",
       "      <td>0.0</td>\n",
       "      <td>0.458</td>\n",
       "      <td>7.147</td>\n",
       "      <td>54.2</td>\n",
       "      <td>6.0622</td>\n",
       "      <td>3.0</td>\n",
       "      <td>222.0</td>\n",
       "      <td>18.7</td>\n",
       "      <td>396.90</td>\n",
       "      <td>5.33</td>\n",
       "    </tr>\n",
       "  </tbody>\n",
       "</table>\n",
       "</div>"
      ],
      "text/plain": [
       "      CRIM    ZN  INDUS  CHAS    NOX     RM   AGE     DIS  RAD    TAX  \\\n",
       "0  0.00632  18.0   2.31   0.0  0.538  6.575  65.2  4.0900  1.0  296.0   \n",
       "1  0.02731   0.0   7.07   0.0  0.469  6.421  78.9  4.9671  2.0  242.0   \n",
       "2  0.02729   0.0   7.07   0.0  0.469  7.185  61.1  4.9671  2.0  242.0   \n",
       "3  0.03237   0.0   2.18   0.0  0.458  6.998  45.8  6.0622  3.0  222.0   \n",
       "4  0.06905   0.0   2.18   0.0  0.458  7.147  54.2  6.0622  3.0  222.0   \n",
       "\n",
       "   PTRATIO       B  LSTAT  \n",
       "0     15.3  396.90   4.98  \n",
       "1     17.8  396.90   9.14  \n",
       "2     17.8  392.83   4.03  \n",
       "3     18.7  394.63   2.94  \n",
       "4     18.7  396.90   5.33  "
      ]
     },
     "execution_count": 12,
     "metadata": {},
     "output_type": "execute_result"
    }
   ],
   "source": [
    "X = pd.DataFrame(boston['data'], columns=boston['feature_names'])\n",
    "X.head()"
   ]
  },
  {
   "cell_type": "code",
   "execution_count": 13,
   "metadata": {},
   "outputs": [
    {
     "name": "stdout",
     "output_type": "stream",
     "text": [
      "<class 'pandas.core.frame.DataFrame'>\n",
      "RangeIndex: 506 entries, 0 to 505\n",
      "Data columns (total 13 columns):\n",
      " #   Column   Non-Null Count  Dtype  \n",
      "---  ------   --------------  -----  \n",
      " 0   CRIM     506 non-null    float64\n",
      " 1   ZN       506 non-null    float64\n",
      " 2   INDUS    506 non-null    float64\n",
      " 3   CHAS     506 non-null    float64\n",
      " 4   NOX      506 non-null    float64\n",
      " 5   RM       506 non-null    float64\n",
      " 6   AGE      506 non-null    float64\n",
      " 7   DIS      506 non-null    float64\n",
      " 8   RAD      506 non-null    float64\n",
      " 9   TAX      506 non-null    float64\n",
      " 10  PTRATIO  506 non-null    float64\n",
      " 11  B        506 non-null    float64\n",
      " 12  LSTAT    506 non-null    float64\n",
      "dtypes: float64(13)\n",
      "memory usage: 51.5 KB\n"
     ]
    }
   ],
   "source": [
    "X.info()"
   ]
  },
  {
   "cell_type": "code",
   "execution_count": 15,
   "metadata": {},
   "outputs": [
    {
     "name": "stdout",
     "output_type": "stream",
     "text": [
      "Memory usage of dataframe is 0.05 MB\n",
      "Memory usage after optimization is: 0.01 MB\n",
      "Decreased by 74.8%\n"
     ]
    }
   ],
   "source": [
    "x = reduce_mem_usage(X)"
   ]
  },
  {
   "cell_type": "code",
   "execution_count": 16,
   "metadata": {
    "scrolled": true
   },
   "outputs": [
    {
     "name": "stdout",
     "output_type": "stream",
     "text": [
      "<class 'pandas.core.frame.DataFrame'>\n",
      "RangeIndex: 506 entries, 0 to 505\n",
      "Data columns (total 13 columns):\n",
      " #   Column   Non-Null Count  Dtype  \n",
      "---  ------   --------------  -----  \n",
      " 0   CRIM     506 non-null    float16\n",
      " 1   ZN       506 non-null    float16\n",
      " 2   INDUS    506 non-null    float16\n",
      " 3   CHAS     506 non-null    float16\n",
      " 4   NOX      506 non-null    float16\n",
      " 5   RM       506 non-null    float16\n",
      " 6   AGE      506 non-null    float16\n",
      " 7   DIS      506 non-null    float16\n",
      " 8   RAD      506 non-null    float16\n",
      " 9   TAX      506 non-null    float16\n",
      " 10  PTRATIO  506 non-null    float16\n",
      " 11  B        506 non-null    float16\n",
      " 12  LSTAT    506 non-null    float16\n",
      "dtypes: float16(13)\n",
      "memory usage: 13.0 KB\n"
     ]
    }
   ],
   "source": [
    "x.info()"
   ]
  },
  {
   "cell_type": "code",
   "execution_count": 17,
   "metadata": {},
   "outputs": [
    {
     "name": "stdout",
     "output_type": "stream",
     "text": [
      "<class 'pandas.core.frame.DataFrame'>\n",
      "RangeIndex: 506 entries, 0 to 505\n",
      "Data columns (total 1 columns):\n",
      " #   Column  Non-Null Count  Dtype  \n",
      "---  ------  --------------  -----  \n",
      " 0   price   506 non-null    float64\n",
      "dtypes: float64(1)\n",
      "memory usage: 4.1 KB\n"
     ]
    }
   ],
   "source": [
    "y = pd.DataFrame(boston['target'], columns=['price'])\n",
    "y.info()"
   ]
  },
  {
   "cell_type": "code",
   "execution_count": 18,
   "metadata": {},
   "outputs": [],
   "source": [
    "from sklearn.model_selection import train_test_split"
   ]
  },
  {
   "cell_type": "code",
   "execution_count": 20,
   "metadata": {},
   "outputs": [],
   "source": [
    "X_train, X_test, y_train, y_test = train_test_split(X, y, test_size=0.3, random_state=42)"
   ]
  },
  {
   "cell_type": "code",
   "execution_count": 22,
   "metadata": {},
   "outputs": [],
   "source": [
    "from sklearn.linear_model import LinearRegression\n",
    "lr = LinearRegression()"
   ]
  },
  {
   "cell_type": "code",
   "execution_count": 23,
   "metadata": {},
   "outputs": [
    {
     "data": {
      "text/plain": [
       "LinearRegression()"
      ]
     },
     "execution_count": 23,
     "metadata": {},
     "output_type": "execute_result"
    }
   ],
   "source": [
    "lr.fit(X_train, y_train)"
   ]
  },
  {
   "cell_type": "code",
   "execution_count": 25,
   "metadata": {
    "scrolled": true
   },
   "outputs": [
    {
     "data": {
      "text/plain": [
       "(152, 1)"
      ]
     },
     "execution_count": 25,
     "metadata": {},
     "output_type": "execute_result"
    }
   ],
   "source": [
    "y_pred = lr.predict(X_test)\n",
    "y_pred.shape"
   ]
  },
  {
   "cell_type": "code",
   "execution_count": 27,
   "metadata": {},
   "outputs": [
    {
     "data": {
      "text/html": [
       "<div>\n",
       "<style scoped>\n",
       "    .dataframe tbody tr th:only-of-type {\n",
       "        vertical-align: middle;\n",
       "    }\n",
       "\n",
       "    .dataframe tbody tr th {\n",
       "        vertical-align: top;\n",
       "    }\n",
       "\n",
       "    .dataframe thead th {\n",
       "        text-align: right;\n",
       "    }\n",
       "</style>\n",
       "<table border=\"1\" class=\"dataframe\">\n",
       "  <thead>\n",
       "    <tr style=\"text-align: right;\">\n",
       "      <th></th>\n",
       "      <th>price</th>\n",
       "    </tr>\n",
       "  </thead>\n",
       "  <tbody>\n",
       "    <tr>\n",
       "      <th>173</th>\n",
       "      <td>23.6</td>\n",
       "    </tr>\n",
       "    <tr>\n",
       "      <th>274</th>\n",
       "      <td>32.4</td>\n",
       "    </tr>\n",
       "    <tr>\n",
       "      <th>491</th>\n",
       "      <td>13.6</td>\n",
       "    </tr>\n",
       "    <tr>\n",
       "      <th>72</th>\n",
       "      <td>22.8</td>\n",
       "    </tr>\n",
       "    <tr>\n",
       "      <th>452</th>\n",
       "      <td>16.1</td>\n",
       "    </tr>\n",
       "  </tbody>\n",
       "</table>\n",
       "</div>"
      ],
      "text/plain": [
       "     price\n",
       "173   23.6\n",
       "274   32.4\n",
       "491   13.6\n",
       "72    22.8\n",
       "452   16.1"
      ]
     },
     "execution_count": 27,
     "metadata": {},
     "output_type": "execute_result"
    }
   ],
   "source": [
    "y_test.head()"
   ]
  },
  {
   "cell_type": "code",
   "execution_count": 32,
   "metadata": {},
   "outputs": [
    {
     "data": {
      "text/html": [
       "<div>\n",
       "<style scoped>\n",
       "    .dataframe tbody tr th:only-of-type {\n",
       "        vertical-align: middle;\n",
       "    }\n",
       "\n",
       "    .dataframe tbody tr th {\n",
       "        vertical-align: top;\n",
       "    }\n",
       "\n",
       "    .dataframe thead th {\n",
       "        text-align: right;\n",
       "    }\n",
       "</style>\n",
       "<table border=\"1\" class=\"dataframe\">\n",
       "  <thead>\n",
       "    <tr style=\"text-align: right;\">\n",
       "      <th></th>\n",
       "      <th>y_test</th>\n",
       "      <th>y_pred</th>\n",
       "    </tr>\n",
       "  </thead>\n",
       "  <tbody>\n",
       "    <tr>\n",
       "      <th>173</th>\n",
       "      <td>23.6</td>\n",
       "      <td>28.656277</td>\n",
       "    </tr>\n",
       "    <tr>\n",
       "      <th>274</th>\n",
       "      <td>32.4</td>\n",
       "      <td>36.504917</td>\n",
       "    </tr>\n",
       "    <tr>\n",
       "      <th>491</th>\n",
       "      <td>13.6</td>\n",
       "      <td>15.433378</td>\n",
       "    </tr>\n",
       "    <tr>\n",
       "      <th>72</th>\n",
       "      <td>22.8</td>\n",
       "      <td>25.406307</td>\n",
       "    </tr>\n",
       "    <tr>\n",
       "      <th>452</th>\n",
       "      <td>16.1</td>\n",
       "      <td>18.862297</td>\n",
       "    </tr>\n",
       "  </tbody>\n",
       "</table>\n",
       "</div>"
      ],
      "text/plain": [
       "     y_test     y_pred\n",
       "173    23.6  28.656277\n",
       "274    32.4  36.504917\n",
       "491    13.6  15.433378\n",
       "72     22.8  25.406307\n",
       "452    16.1  18.862297"
      ]
     },
     "execution_count": 32,
     "metadata": {},
     "output_type": "execute_result"
    }
   ],
   "source": [
    "check_test = pd.DataFrame({\n",
    "    \"y_test\": y_test[\"price\"],\n",
    "    \"y_pred\": y_pred.flatten(),\n",
    "})\n",
    "\n",
    "check_test.head()"
   ]
  },
  {
   "cell_type": "code",
   "execution_count": 26,
   "metadata": {},
   "outputs": [],
   "source": [
    "from sklearn.metrics import r2_score"
   ]
  },
  {
   "cell_type": "code",
   "execution_count": 33,
   "metadata": {},
   "outputs": [
    {
     "data": {
      "text/plain": [
       "0.7112973522673642"
      ]
     },
     "execution_count": 33,
     "metadata": {},
     "output_type": "execute_result"
    }
   ],
   "source": [
    "r2_score(check_test[\"y_test\"], check_test[\"y_pred\"])"
   ]
  },
  {
   "cell_type": "markdown",
   "metadata": {},
   "source": [
    "## Задание 2"
   ]
  },
  {
   "cell_type": "markdown",
   "metadata": {},
   "source": [
    "Создайте модель под названием `model` с помощью `RandomForestRegressor` из модуля\n",
    "`sklearn.ensemble`. <br>\n",
    "Сделайте агрумент `n_estimators` равным 1000, `max_depth` должен быть равен 12 и `random_state` сделайте равным 42. <br>\n",
    "Обучите модель на тренировочных данных аналогично тому, как вы обучали модель `LinearRegression`, но при этом в метод `fit` вместо датафрейма `y_train` поставьте `y_train.values[:, 0]`, чтобы получить из датафрейма одномерный массив `Numpy`, так как для класса `RandomForestRegressor` в данном методе для аргумента y предпочтительно\n",
    "применение массивов вместо датафрейма. <br>\n",
    "Сделайте предсказание на тестовых данных и посчитайте `R2`. Сравните с результатом из предыдущего задания. <br>\n",
    "Напишите в комментариях к коду, какая модель в данном случае работает лучше."
   ]
  },
  {
   "cell_type": "code",
   "execution_count": 38,
   "metadata": {},
   "outputs": [],
   "source": [
    "from sklearn.ensemble import RandomForestRegressor\n",
    "model = RandomForestRegressor(n_estimators=1000, max_depth=12, random_state=42)"
   ]
  },
  {
   "cell_type": "code",
   "execution_count": 45,
   "metadata": {},
   "outputs": [
    {
     "data": {
      "text/plain": [
       "RandomForestRegressor(max_depth=12, n_estimators=1000, random_state=42)"
      ]
     },
     "execution_count": 45,
     "metadata": {},
     "output_type": "execute_result"
    }
   ],
   "source": [
    "model.fit(X_train, y_train.values[:, 0])"
   ]
  },
  {
   "cell_type": "code",
   "execution_count": 50,
   "metadata": {},
   "outputs": [
    {
     "data": {
      "text/plain": [
       "array([22.80611956, 31.22868352, 16.33457583, 23.85202847, 17.1254019 ])"
      ]
     },
     "execution_count": 50,
     "metadata": {},
     "output_type": "execute_result"
    }
   ],
   "source": [
    "y_pred = model.predict(X_test)\n",
    "y_pred[:5]"
   ]
  },
  {
   "cell_type": "code",
   "execution_count": 51,
   "metadata": {},
   "outputs": [
    {
     "data": {
      "text/plain": [
       "0.8738172573227014"
      ]
     },
     "execution_count": 51,
     "metadata": {},
     "output_type": "execute_result"
    }
   ],
   "source": [
    "r2_score(y_test[\"price\"], y_pred)"
   ]
  },
  {
   "cell_type": "code",
   "execution_count": null,
   "metadata": {},
   "outputs": [],
   "source": []
  },
  {
   "cell_type": "markdown",
   "metadata": {},
   "source": [
    "## \\*Задание 3"
   ]
  },
  {
   "cell_type": "markdown",
   "metadata": {},
   "source": [
    "Вызовите документацию для класса `RandomForestRegressor`, найдите информацию об атрибуте `feature_importances_`.\n",
    "С помощью этого атрибута найдите сумму всех показателей важности, установите, какие два признака показывают наибольшую важность."
   ]
  },
  {
   "cell_type": "code",
   "execution_count": 55,
   "metadata": {},
   "outputs": [],
   "source": [
    "RandomForestRegressor?"
   ]
  },
  {
   "cell_type": "code",
   "execution_count": 53,
   "metadata": {
    "scrolled": true
   },
   "outputs": [
    {
     "data": {
      "text/plain": [
       "array([0.03162369, 0.00155322, 0.00728865, 0.00118705, 0.01428215,\n",
       "       0.40232099, 0.01439642, 0.06384838, 0.00515261, 0.01182786,\n",
       "       0.01792489, 0.0119908 , 0.41660327])"
      ]
     },
     "execution_count": 53,
     "metadata": {},
     "output_type": "execute_result"
    }
   ],
   "source": [
    "model.feature_importances_"
   ]
  },
  {
   "cell_type": "markdown",
   "metadata": {},
   "source": [
    "Из документации: \"The importance of a feature is computed as the (normalized) total reduction of the criterion brought by that feature.\" поэтому сумма признаков всегда будет равна 1"
   ]
  },
  {
   "cell_type": "code",
   "execution_count": 95,
   "metadata": {},
   "outputs": [
    {
     "data": {
      "text/plain": [
       "1.0"
      ]
     },
     "execution_count": 95,
     "metadata": {},
     "output_type": "execute_result"
    }
   ],
   "source": [
    "model_feature = pd.DataFrame({\n",
    "    \"name\": boston['feature_names'],\n",
    "    \"value\": model.feature_importances_,\n",
    "})\n",
    "np.sum(model_feature.values[:, 1])"
   ]
  },
  {
   "cell_type": "code",
   "execution_count": 96,
   "metadata": {},
   "outputs": [
    {
     "data": {
      "text/html": [
       "<div>\n",
       "<style scoped>\n",
       "    .dataframe tbody tr th:only-of-type {\n",
       "        vertical-align: middle;\n",
       "    }\n",
       "\n",
       "    .dataframe tbody tr th {\n",
       "        vertical-align: top;\n",
       "    }\n",
       "\n",
       "    .dataframe thead th {\n",
       "        text-align: right;\n",
       "    }\n",
       "</style>\n",
       "<table border=\"1\" class=\"dataframe\">\n",
       "  <thead>\n",
       "    <tr style=\"text-align: right;\">\n",
       "      <th></th>\n",
       "      <th>name</th>\n",
       "      <th>value</th>\n",
       "    </tr>\n",
       "  </thead>\n",
       "  <tbody>\n",
       "    <tr>\n",
       "      <th>0</th>\n",
       "      <td>CRIM</td>\n",
       "      <td>0.031624</td>\n",
       "    </tr>\n",
       "    <tr>\n",
       "      <th>1</th>\n",
       "      <td>ZN</td>\n",
       "      <td>0.001553</td>\n",
       "    </tr>\n",
       "    <tr>\n",
       "      <th>2</th>\n",
       "      <td>INDUS</td>\n",
       "      <td>0.007289</td>\n",
       "    </tr>\n",
       "    <tr>\n",
       "      <th>3</th>\n",
       "      <td>CHAS</td>\n",
       "      <td>0.001187</td>\n",
       "    </tr>\n",
       "    <tr>\n",
       "      <th>4</th>\n",
       "      <td>NOX</td>\n",
       "      <td>0.014282</td>\n",
       "    </tr>\n",
       "    <tr>\n",
       "      <th>5</th>\n",
       "      <td>RM</td>\n",
       "      <td>0.402321</td>\n",
       "    </tr>\n",
       "    <tr>\n",
       "      <th>6</th>\n",
       "      <td>AGE</td>\n",
       "      <td>0.014396</td>\n",
       "    </tr>\n",
       "    <tr>\n",
       "      <th>7</th>\n",
       "      <td>DIS</td>\n",
       "      <td>0.063848</td>\n",
       "    </tr>\n",
       "    <tr>\n",
       "      <th>8</th>\n",
       "      <td>RAD</td>\n",
       "      <td>0.005153</td>\n",
       "    </tr>\n",
       "    <tr>\n",
       "      <th>9</th>\n",
       "      <td>TAX</td>\n",
       "      <td>0.011828</td>\n",
       "    </tr>\n",
       "    <tr>\n",
       "      <th>10</th>\n",
       "      <td>PTRATIO</td>\n",
       "      <td>0.017925</td>\n",
       "    </tr>\n",
       "    <tr>\n",
       "      <th>11</th>\n",
       "      <td>B</td>\n",
       "      <td>0.011991</td>\n",
       "    </tr>\n",
       "    <tr>\n",
       "      <th>12</th>\n",
       "      <td>LSTAT</td>\n",
       "      <td>0.416603</td>\n",
       "    </tr>\n",
       "  </tbody>\n",
       "</table>\n",
       "</div>"
      ],
      "text/plain": [
       "       name     value\n",
       "0      CRIM  0.031624\n",
       "1        ZN  0.001553\n",
       "2     INDUS  0.007289\n",
       "3      CHAS  0.001187\n",
       "4       NOX  0.014282\n",
       "5        RM  0.402321\n",
       "6       AGE  0.014396\n",
       "7       DIS  0.063848\n",
       "8       RAD  0.005153\n",
       "9       TAX  0.011828\n",
       "10  PTRATIO  0.017925\n",
       "11        B  0.011991\n",
       "12    LSTAT  0.416603"
      ]
     },
     "execution_count": 96,
     "metadata": {},
     "output_type": "execute_result"
    }
   ],
   "source": [
    "model_feature"
   ]
  },
  {
   "cell_type": "code",
   "execution_count": 202,
   "metadata": {
    "scrolled": false
   },
   "outputs": [
    {
     "data": {
      "text/html": [
       "<div>\n",
       "<style scoped>\n",
       "    .dataframe tbody tr th:only-of-type {\n",
       "        vertical-align: middle;\n",
       "    }\n",
       "\n",
       "    .dataframe tbody tr th {\n",
       "        vertical-align: top;\n",
       "    }\n",
       "\n",
       "    .dataframe thead th {\n",
       "        text-align: right;\n",
       "    }\n",
       "</style>\n",
       "<table border=\"1\" class=\"dataframe\">\n",
       "  <thead>\n",
       "    <tr style=\"text-align: right;\">\n",
       "      <th></th>\n",
       "      <th>name</th>\n",
       "      <th>value</th>\n",
       "    </tr>\n",
       "  </thead>\n",
       "  <tbody>\n",
       "    <tr>\n",
       "      <th>12</th>\n",
       "      <td>LSTAT</td>\n",
       "      <td>0.416603</td>\n",
       "    </tr>\n",
       "    <tr>\n",
       "      <th>5</th>\n",
       "      <td>RM</td>\n",
       "      <td>0.402321</td>\n",
       "    </tr>\n",
       "  </tbody>\n",
       "</table>\n",
       "</div>"
      ],
      "text/plain": [
       "     name     value\n",
       "12  LSTAT  0.416603\n",
       "5      RM  0.402321"
      ]
     },
     "execution_count": 202,
     "metadata": {},
     "output_type": "execute_result"
    }
   ],
   "source": [
    "model_feature.nlargest(2, \"value\")"
   ]
  },
  {
   "cell_type": "markdown",
   "metadata": {},
   "source": [
    "Признаки с наибольшей важностью: <br>\n",
    "RM - average number of rooms per dwelling <br>\n",
    "LSTAT - % lower status of the population"
   ]
  },
  {
   "cell_type": "markdown",
   "metadata": {},
   "source": [
    "## \\*Задание 4"
   ]
  },
  {
   "cell_type": "markdown",
   "metadata": {},
   "source": [
    "В этом задании мы будем работать с датасетом, с которым мы уже знакомы по домашнему заданию по библиотеке `Matplotlib`, это датасет Credit Card Fraud Detection. Для этого датасета мы будем решать задачу классификации - будем определять, какие из транзакциции по кредитной карте являются мошенническими. Данный датасет сильно несбалансирован (так как случаи мошенничества относительно редки), так что применение метрики `accuracy` не принесет пользы и не поможет выбрать лучшую модель. <br>\n",
    "Мы будем вычислять `AUC`, то есть площадь под кривой `ROC`. <br>\n",
    "Импортируйте из соответствующих модулей `RandomForestClassifier`, `GridSearchCV` и `train_test_split`.\n",
    "Загрузите датасет `creditcard.csv` и создайте датафрейм `df`. <br>\n",
    "С помощью метода `value_counts` с аргументом `normalize=True` убедитесь в том, что выборка\n",
    "несбалансирована. Используя метод `info`, проверьте, все ли столбцы содержат числовые данные и нет ли в них пропусков. <br>\n",
    "Примените следующую настройку, чтобы можно было просматривать все столбцы датафрейма: `pd.options.display.max_columns = 100`. <br>\n",
    "Просмотрите первые 10 строк датафрейма `df`. <br>\n",
    "Создайте датафрейм `X` из датафрейма `df`, исключив столбец `Class`. <br>\n",
    "Создайте объект `Series` под названием `y` из столбца `Class`. <br>\n",
    "Разбейте `X` и `y` на тренировочный и тестовый наборы данных при помощи функции `train_test_split`, используя аргументы: `test_size=0.3`, `random_state=100`, `stratify=y`. <br>\n",
    "У вас должны получиться объекты `X_train, X_test, y_train` и `y_test`. <br>\n",
    "Просмотрите информацию о их форме. Для поиска по сетке параметров задайте такие параметры:\n",
    "```Python\n",
    "parameters = [{'n_estimators': [10, 15],\n",
    "               'max_features': np.arange(3, 5),\n",
    "               'max_depth': np.arange(4, 7)}]\n",
    "```\n",
    "Создайте модель `GridSearchCV` со следующими аргументами:\n",
    "```Python\n",
    "estimator=RandomForestClassifier(random_state=100),\n",
    "param_grid=parameters,\n",
    "scoring='roc_auc',\n",
    "cv=3.\n",
    "```\n",
    "Обучите модель на тренировочном наборе данных (может занять несколько минут). Просмотрите параметры лучшей модели с помощью атрибута `best_params_`. Предскажите вероятности классов с помощью полученнной модели и метода `predict_proba`. <br>\n",
    "Из полученного результата (массив `Numpy`) выберите столбец с индексом 1 (вероятность класса 1) и\n",
    "запишите в массив `y_pred_proba`. Из модуля `sklearn.metrics` импортируйте метрику `roc_auc_score`.\n",
    "Вычислите `AUC` на тестовых данных и сравните с результатом, полученным на тренировочных данных, используя в качестве аргументовмассивы `y_test` и `y_pred_proba`."
   ]
  },
  {
   "cell_type": "code",
   "execution_count": 112,
   "metadata": {},
   "outputs": [],
   "source": [
    "from sklearn.ensemble import RandomForestClassifier\n",
    "from sklearn.model_selection import GridSearchCV"
   ]
  },
  {
   "cell_type": "code",
   "execution_count": 113,
   "metadata": {},
   "outputs": [],
   "source": [
    "df = pd.read_csv(\"creditcard/creditcard.csv\")"
   ]
  },
  {
   "cell_type": "code",
   "execution_count": 114,
   "metadata": {
    "scrolled": true
   },
   "outputs": [
    {
     "name": "stdout",
     "output_type": "stream",
     "text": [
      "Memory usage of dataframe is 67.36 MB\n",
      "Memory usage after optimization is: 17.11 MB\n",
      "Decreased by 74.6%\n"
     ]
    }
   ],
   "source": [
    "df = reduce_mem_usage(df)"
   ]
  },
  {
   "cell_type": "code",
   "execution_count": 167,
   "metadata": {
    "scrolled": false
   },
   "outputs": [
    {
     "data": {
      "text/plain": [
       "0    0.998273\n",
       "1    0.001727\n",
       "Name: Class, dtype: float64"
      ]
     },
     "execution_count": 167,
     "metadata": {},
     "output_type": "execute_result"
    }
   ],
   "source": [
    "df[\"Class\"].value_counts(normalize=True)"
   ]
  },
  {
   "cell_type": "code",
   "execution_count": 121,
   "metadata": {},
   "outputs": [
    {
     "name": "stdout",
     "output_type": "stream",
     "text": [
      "<class 'pandas.core.frame.DataFrame'>\n",
      "RangeIndex: 284807 entries, 0 to 284806\n",
      "Data columns (total 31 columns):\n",
      " #   Column  Non-Null Count   Dtype  \n",
      "---  ------  --------------   -----  \n",
      " 0   Time    284807 non-null  float32\n",
      " 1   V1      284807 non-null  float16\n",
      " 2   V2      284807 non-null  float16\n",
      " 3   V3      284807 non-null  float16\n",
      " 4   V4      284807 non-null  float16\n",
      " 5   V5      284807 non-null  float16\n",
      " 6   V6      284807 non-null  float16\n",
      " 7   V7      284807 non-null  float16\n",
      " 8   V8      284807 non-null  float16\n",
      " 9   V9      284807 non-null  float16\n",
      " 10  V10     284807 non-null  float16\n",
      " 11  V11     284807 non-null  float16\n",
      " 12  V12     284807 non-null  float16\n",
      " 13  V13     284807 non-null  float16\n",
      " 14  V14     284807 non-null  float16\n",
      " 15  V15     284807 non-null  float16\n",
      " 16  V16     284807 non-null  float16\n",
      " 17  V17     284807 non-null  float16\n",
      " 18  V18     284807 non-null  float16\n",
      " 19  V19     284807 non-null  float16\n",
      " 20  V20     284807 non-null  float16\n",
      " 21  V21     284807 non-null  float16\n",
      " 22  V22     284807 non-null  float16\n",
      " 23  V23     284807 non-null  float16\n",
      " 24  V24     284807 non-null  float16\n",
      " 25  V25     284807 non-null  float16\n",
      " 26  V26     284807 non-null  float16\n",
      " 27  V27     284807 non-null  float16\n",
      " 28  V28     284807 non-null  float16\n",
      " 29  Amount  284807 non-null  float16\n",
      " 30  Class   284807 non-null  int8   \n",
      "dtypes: float16(29), float32(1), int8(1)\n",
      "memory usage: 17.1 MB\n"
     ]
    }
   ],
   "source": [
    "df.info()"
   ]
  },
  {
   "cell_type": "code",
   "execution_count": 122,
   "metadata": {},
   "outputs": [],
   "source": [
    "pd.options.display.max_columns = 100"
   ]
  },
  {
   "cell_type": "code",
   "execution_count": 123,
   "metadata": {},
   "outputs": [
    {
     "data": {
      "text/html": [
       "<div>\n",
       "<style scoped>\n",
       "    .dataframe tbody tr th:only-of-type {\n",
       "        vertical-align: middle;\n",
       "    }\n",
       "\n",
       "    .dataframe tbody tr th {\n",
       "        vertical-align: top;\n",
       "    }\n",
       "\n",
       "    .dataframe thead th {\n",
       "        text-align: right;\n",
       "    }\n",
       "</style>\n",
       "<table border=\"1\" class=\"dataframe\">\n",
       "  <thead>\n",
       "    <tr style=\"text-align: right;\">\n",
       "      <th></th>\n",
       "      <th>Time</th>\n",
       "      <th>V1</th>\n",
       "      <th>V2</th>\n",
       "      <th>V3</th>\n",
       "      <th>V4</th>\n",
       "      <th>V5</th>\n",
       "      <th>V6</th>\n",
       "      <th>V7</th>\n",
       "      <th>V8</th>\n",
       "      <th>V9</th>\n",
       "      <th>V10</th>\n",
       "      <th>V11</th>\n",
       "      <th>V12</th>\n",
       "      <th>V13</th>\n",
       "      <th>V14</th>\n",
       "      <th>V15</th>\n",
       "      <th>V16</th>\n",
       "      <th>V17</th>\n",
       "      <th>V18</th>\n",
       "      <th>V19</th>\n",
       "      <th>V20</th>\n",
       "      <th>V21</th>\n",
       "      <th>V22</th>\n",
       "      <th>V23</th>\n",
       "      <th>V24</th>\n",
       "      <th>V25</th>\n",
       "      <th>V26</th>\n",
       "      <th>V27</th>\n",
       "      <th>V28</th>\n",
       "      <th>Amount</th>\n",
       "      <th>Class</th>\n",
       "    </tr>\n",
       "  </thead>\n",
       "  <tbody>\n",
       "    <tr>\n",
       "      <th>0</th>\n",
       "      <td>0.0</td>\n",
       "      <td>-1.359375</td>\n",
       "      <td>-0.072754</td>\n",
       "      <td>2.537109</td>\n",
       "      <td>1.377930</td>\n",
       "      <td>-0.338379</td>\n",
       "      <td>0.462402</td>\n",
       "      <td>0.239624</td>\n",
       "      <td>0.098694</td>\n",
       "      <td>0.363770</td>\n",
       "      <td>0.090820</td>\n",
       "      <td>-0.551758</td>\n",
       "      <td>-0.617676</td>\n",
       "      <td>-0.991211</td>\n",
       "      <td>-0.311279</td>\n",
       "      <td>1.467773</td>\n",
       "      <td>-0.470459</td>\n",
       "      <td>0.208008</td>\n",
       "      <td>0.025787</td>\n",
       "      <td>0.404053</td>\n",
       "      <td>0.251465</td>\n",
       "      <td>-0.018311</td>\n",
       "      <td>0.277832</td>\n",
       "      <td>-0.110474</td>\n",
       "      <td>0.066956</td>\n",
       "      <td>0.128540</td>\n",
       "      <td>-0.189087</td>\n",
       "      <td>0.133545</td>\n",
       "      <td>-0.021057</td>\n",
       "      <td>149.625000</td>\n",
       "      <td>0</td>\n",
       "    </tr>\n",
       "    <tr>\n",
       "      <th>1</th>\n",
       "      <td>0.0</td>\n",
       "      <td>1.191406</td>\n",
       "      <td>0.266113</td>\n",
       "      <td>0.166504</td>\n",
       "      <td>0.448242</td>\n",
       "      <td>0.060028</td>\n",
       "      <td>-0.082336</td>\n",
       "      <td>-0.078796</td>\n",
       "      <td>0.085083</td>\n",
       "      <td>-0.255371</td>\n",
       "      <td>-0.166992</td>\n",
       "      <td>1.612305</td>\n",
       "      <td>1.065430</td>\n",
       "      <td>0.489014</td>\n",
       "      <td>-0.143799</td>\n",
       "      <td>0.635742</td>\n",
       "      <td>0.463867</td>\n",
       "      <td>-0.114807</td>\n",
       "      <td>-0.183350</td>\n",
       "      <td>-0.145752</td>\n",
       "      <td>-0.069092</td>\n",
       "      <td>-0.225830</td>\n",
       "      <td>-0.638672</td>\n",
       "      <td>0.101318</td>\n",
       "      <td>-0.339844</td>\n",
       "      <td>0.167114</td>\n",
       "      <td>0.125854</td>\n",
       "      <td>-0.008980</td>\n",
       "      <td>0.014725</td>\n",
       "      <td>2.689453</td>\n",
       "      <td>0</td>\n",
       "    </tr>\n",
       "    <tr>\n",
       "      <th>2</th>\n",
       "      <td>1.0</td>\n",
       "      <td>-1.358398</td>\n",
       "      <td>-1.339844</td>\n",
       "      <td>1.773438</td>\n",
       "      <td>0.379883</td>\n",
       "      <td>-0.503418</td>\n",
       "      <td>1.800781</td>\n",
       "      <td>0.791504</td>\n",
       "      <td>0.247681</td>\n",
       "      <td>-1.514648</td>\n",
       "      <td>0.207642</td>\n",
       "      <td>0.624512</td>\n",
       "      <td>0.066101</td>\n",
       "      <td>0.717285</td>\n",
       "      <td>-0.165894</td>\n",
       "      <td>2.345703</td>\n",
       "      <td>-2.890625</td>\n",
       "      <td>1.110352</td>\n",
       "      <td>-0.121338</td>\n",
       "      <td>-2.261719</td>\n",
       "      <td>0.524902</td>\n",
       "      <td>0.248047</td>\n",
       "      <td>0.771484</td>\n",
       "      <td>0.909180</td>\n",
       "      <td>-0.689453</td>\n",
       "      <td>-0.327637</td>\n",
       "      <td>-0.139038</td>\n",
       "      <td>-0.055359</td>\n",
       "      <td>-0.059753</td>\n",
       "      <td>378.750000</td>\n",
       "      <td>0</td>\n",
       "    </tr>\n",
       "    <tr>\n",
       "      <th>3</th>\n",
       "      <td>1.0</td>\n",
       "      <td>-0.966309</td>\n",
       "      <td>-0.185181</td>\n",
       "      <td>1.792969</td>\n",
       "      <td>-0.863281</td>\n",
       "      <td>-0.010307</td>\n",
       "      <td>1.247070</td>\n",
       "      <td>0.237549</td>\n",
       "      <td>0.377441</td>\n",
       "      <td>-1.386719</td>\n",
       "      <td>-0.054962</td>\n",
       "      <td>-0.226440</td>\n",
       "      <td>0.178223</td>\n",
       "      <td>0.507812</td>\n",
       "      <td>-0.287842</td>\n",
       "      <td>-0.631348</td>\n",
       "      <td>-1.059570</td>\n",
       "      <td>-0.684082</td>\n",
       "      <td>1.965820</td>\n",
       "      <td>-1.232422</td>\n",
       "      <td>-0.208008</td>\n",
       "      <td>-0.108276</td>\n",
       "      <td>0.005272</td>\n",
       "      <td>-0.190308</td>\n",
       "      <td>-1.175781</td>\n",
       "      <td>0.647461</td>\n",
       "      <td>-0.221924</td>\n",
       "      <td>0.062744</td>\n",
       "      <td>0.061462</td>\n",
       "      <td>123.500000</td>\n",
       "      <td>0</td>\n",
       "    </tr>\n",
       "    <tr>\n",
       "      <th>4</th>\n",
       "      <td>2.0</td>\n",
       "      <td>-1.158203</td>\n",
       "      <td>0.877930</td>\n",
       "      <td>1.548828</td>\n",
       "      <td>0.403076</td>\n",
       "      <td>-0.407227</td>\n",
       "      <td>0.095947</td>\n",
       "      <td>0.592773</td>\n",
       "      <td>-0.270508</td>\n",
       "      <td>0.817871</td>\n",
       "      <td>0.752930</td>\n",
       "      <td>-0.822754</td>\n",
       "      <td>0.538086</td>\n",
       "      <td>1.345703</td>\n",
       "      <td>-1.120117</td>\n",
       "      <td>0.175171</td>\n",
       "      <td>-0.451416</td>\n",
       "      <td>-0.237061</td>\n",
       "      <td>-0.038208</td>\n",
       "      <td>0.803711</td>\n",
       "      <td>0.408447</td>\n",
       "      <td>-0.009430</td>\n",
       "      <td>0.798340</td>\n",
       "      <td>-0.137451</td>\n",
       "      <td>0.141235</td>\n",
       "      <td>-0.206055</td>\n",
       "      <td>0.502441</td>\n",
       "      <td>0.219482</td>\n",
       "      <td>0.215210</td>\n",
       "      <td>70.000000</td>\n",
       "      <td>0</td>\n",
       "    </tr>\n",
       "    <tr>\n",
       "      <th>5</th>\n",
       "      <td>2.0</td>\n",
       "      <td>-0.426025</td>\n",
       "      <td>0.960449</td>\n",
       "      <td>1.140625</td>\n",
       "      <td>-0.168213</td>\n",
       "      <td>0.420898</td>\n",
       "      <td>-0.029724</td>\n",
       "      <td>0.476318</td>\n",
       "      <td>0.260254</td>\n",
       "      <td>-0.568848</td>\n",
       "      <td>-0.371338</td>\n",
       "      <td>1.340820</td>\n",
       "      <td>0.359863</td>\n",
       "      <td>-0.358154</td>\n",
       "      <td>-0.137085</td>\n",
       "      <td>0.517578</td>\n",
       "      <td>0.401611</td>\n",
       "      <td>-0.058136</td>\n",
       "      <td>0.068665</td>\n",
       "      <td>-0.033203</td>\n",
       "      <td>0.084961</td>\n",
       "      <td>-0.208252</td>\n",
       "      <td>-0.560059</td>\n",
       "      <td>-0.026398</td>\n",
       "      <td>-0.371338</td>\n",
       "      <td>-0.232788</td>\n",
       "      <td>0.105896</td>\n",
       "      <td>0.253906</td>\n",
       "      <td>0.081055</td>\n",
       "      <td>3.669922</td>\n",
       "      <td>0</td>\n",
       "    </tr>\n",
       "    <tr>\n",
       "      <th>6</th>\n",
       "      <td>4.0</td>\n",
       "      <td>1.229492</td>\n",
       "      <td>0.140991</td>\n",
       "      <td>0.045380</td>\n",
       "      <td>1.202148</td>\n",
       "      <td>0.191895</td>\n",
       "      <td>0.272705</td>\n",
       "      <td>-0.005157</td>\n",
       "      <td>0.081238</td>\n",
       "      <td>0.464844</td>\n",
       "      <td>-0.099243</td>\n",
       "      <td>-1.416992</td>\n",
       "      <td>-0.153809</td>\n",
       "      <td>-0.750977</td>\n",
       "      <td>0.167358</td>\n",
       "      <td>0.050140</td>\n",
       "      <td>-0.443604</td>\n",
       "      <td>0.002821</td>\n",
       "      <td>-0.611816</td>\n",
       "      <td>-0.045563</td>\n",
       "      <td>-0.219604</td>\n",
       "      <td>-0.167725</td>\n",
       "      <td>-0.270752</td>\n",
       "      <td>-0.154053</td>\n",
       "      <td>-0.780273</td>\n",
       "      <td>0.750000</td>\n",
       "      <td>-0.257324</td>\n",
       "      <td>0.034515</td>\n",
       "      <td>0.005169</td>\n",
       "      <td>4.988281</td>\n",
       "      <td>0</td>\n",
       "    </tr>\n",
       "    <tr>\n",
       "      <th>7</th>\n",
       "      <td>7.0</td>\n",
       "      <td>-0.644043</td>\n",
       "      <td>1.417969</td>\n",
       "      <td>1.074219</td>\n",
       "      <td>-0.492188</td>\n",
       "      <td>0.948730</td>\n",
       "      <td>0.428223</td>\n",
       "      <td>1.121094</td>\n",
       "      <td>-3.808594</td>\n",
       "      <td>0.615234</td>\n",
       "      <td>1.249023</td>\n",
       "      <td>-0.619629</td>\n",
       "      <td>0.291504</td>\n",
       "      <td>1.757812</td>\n",
       "      <td>-1.324219</td>\n",
       "      <td>0.686035</td>\n",
       "      <td>-0.076111</td>\n",
       "      <td>-1.221680</td>\n",
       "      <td>-0.358154</td>\n",
       "      <td>0.324463</td>\n",
       "      <td>-0.156738</td>\n",
       "      <td>1.943359</td>\n",
       "      <td>-1.015625</td>\n",
       "      <td>0.057495</td>\n",
       "      <td>-0.649902</td>\n",
       "      <td>-0.415283</td>\n",
       "      <td>-0.051636</td>\n",
       "      <td>-1.207031</td>\n",
       "      <td>-1.084961</td>\n",
       "      <td>40.812500</td>\n",
       "      <td>0</td>\n",
       "    </tr>\n",
       "    <tr>\n",
       "      <th>8</th>\n",
       "      <td>7.0</td>\n",
       "      <td>-0.894043</td>\n",
       "      <td>0.286133</td>\n",
       "      <td>-0.113220</td>\n",
       "      <td>-0.271484</td>\n",
       "      <td>2.669922</td>\n",
       "      <td>3.722656</td>\n",
       "      <td>0.370117</td>\n",
       "      <td>0.851074</td>\n",
       "      <td>-0.392090</td>\n",
       "      <td>-0.410400</td>\n",
       "      <td>-0.705078</td>\n",
       "      <td>-0.110474</td>\n",
       "      <td>-0.286133</td>\n",
       "      <td>0.074341</td>\n",
       "      <td>-0.328857</td>\n",
       "      <td>-0.210083</td>\n",
       "      <td>-0.499756</td>\n",
       "      <td>0.118774</td>\n",
       "      <td>0.570312</td>\n",
       "      <td>0.052734</td>\n",
       "      <td>-0.073425</td>\n",
       "      <td>-0.268066</td>\n",
       "      <td>-0.204224</td>\n",
       "      <td>1.011719</td>\n",
       "      <td>0.373291</td>\n",
       "      <td>-0.384277</td>\n",
       "      <td>0.011749</td>\n",
       "      <td>0.142456</td>\n",
       "      <td>93.187500</td>\n",
       "      <td>0</td>\n",
       "    </tr>\n",
       "    <tr>\n",
       "      <th>9</th>\n",
       "      <td>9.0</td>\n",
       "      <td>-0.338379</td>\n",
       "      <td>1.119141</td>\n",
       "      <td>1.043945</td>\n",
       "      <td>-0.222168</td>\n",
       "      <td>0.499268</td>\n",
       "      <td>-0.246704</td>\n",
       "      <td>0.651367</td>\n",
       "      <td>0.069519</td>\n",
       "      <td>-0.736816</td>\n",
       "      <td>-0.366943</td>\n",
       "      <td>1.017578</td>\n",
       "      <td>0.836426</td>\n",
       "      <td>1.006836</td>\n",
       "      <td>-0.443604</td>\n",
       "      <td>0.150269</td>\n",
       "      <td>0.739258</td>\n",
       "      <td>-0.541016</td>\n",
       "      <td>0.476562</td>\n",
       "      <td>0.451660</td>\n",
       "      <td>0.203735</td>\n",
       "      <td>-0.246948</td>\n",
       "      <td>-0.633789</td>\n",
       "      <td>-0.120789</td>\n",
       "      <td>-0.385010</td>\n",
       "      <td>-0.069763</td>\n",
       "      <td>0.094177</td>\n",
       "      <td>0.246216</td>\n",
       "      <td>0.083069</td>\n",
       "      <td>3.679688</td>\n",
       "      <td>0</td>\n",
       "    </tr>\n",
       "  </tbody>\n",
       "</table>\n",
       "</div>"
      ],
      "text/plain": [
       "   Time        V1        V2        V3        V4        V5        V6        V7  \\\n",
       "0   0.0 -1.359375 -0.072754  2.537109  1.377930 -0.338379  0.462402  0.239624   \n",
       "1   0.0  1.191406  0.266113  0.166504  0.448242  0.060028 -0.082336 -0.078796   \n",
       "2   1.0 -1.358398 -1.339844  1.773438  0.379883 -0.503418  1.800781  0.791504   \n",
       "3   1.0 -0.966309 -0.185181  1.792969 -0.863281 -0.010307  1.247070  0.237549   \n",
       "4   2.0 -1.158203  0.877930  1.548828  0.403076 -0.407227  0.095947  0.592773   \n",
       "5   2.0 -0.426025  0.960449  1.140625 -0.168213  0.420898 -0.029724  0.476318   \n",
       "6   4.0  1.229492  0.140991  0.045380  1.202148  0.191895  0.272705 -0.005157   \n",
       "7   7.0 -0.644043  1.417969  1.074219 -0.492188  0.948730  0.428223  1.121094   \n",
       "8   7.0 -0.894043  0.286133 -0.113220 -0.271484  2.669922  3.722656  0.370117   \n",
       "9   9.0 -0.338379  1.119141  1.043945 -0.222168  0.499268 -0.246704  0.651367   \n",
       "\n",
       "         V8        V9       V10       V11       V12       V13       V14  \\\n",
       "0  0.098694  0.363770  0.090820 -0.551758 -0.617676 -0.991211 -0.311279   \n",
       "1  0.085083 -0.255371 -0.166992  1.612305  1.065430  0.489014 -0.143799   \n",
       "2  0.247681 -1.514648  0.207642  0.624512  0.066101  0.717285 -0.165894   \n",
       "3  0.377441 -1.386719 -0.054962 -0.226440  0.178223  0.507812 -0.287842   \n",
       "4 -0.270508  0.817871  0.752930 -0.822754  0.538086  1.345703 -1.120117   \n",
       "5  0.260254 -0.568848 -0.371338  1.340820  0.359863 -0.358154 -0.137085   \n",
       "6  0.081238  0.464844 -0.099243 -1.416992 -0.153809 -0.750977  0.167358   \n",
       "7 -3.808594  0.615234  1.249023 -0.619629  0.291504  1.757812 -1.324219   \n",
       "8  0.851074 -0.392090 -0.410400 -0.705078 -0.110474 -0.286133  0.074341   \n",
       "9  0.069519 -0.736816 -0.366943  1.017578  0.836426  1.006836 -0.443604   \n",
       "\n",
       "        V15       V16       V17       V18       V19       V20       V21  \\\n",
       "0  1.467773 -0.470459  0.208008  0.025787  0.404053  0.251465 -0.018311   \n",
       "1  0.635742  0.463867 -0.114807 -0.183350 -0.145752 -0.069092 -0.225830   \n",
       "2  2.345703 -2.890625  1.110352 -0.121338 -2.261719  0.524902  0.248047   \n",
       "3 -0.631348 -1.059570 -0.684082  1.965820 -1.232422 -0.208008 -0.108276   \n",
       "4  0.175171 -0.451416 -0.237061 -0.038208  0.803711  0.408447 -0.009430   \n",
       "5  0.517578  0.401611 -0.058136  0.068665 -0.033203  0.084961 -0.208252   \n",
       "6  0.050140 -0.443604  0.002821 -0.611816 -0.045563 -0.219604 -0.167725   \n",
       "7  0.686035 -0.076111 -1.221680 -0.358154  0.324463 -0.156738  1.943359   \n",
       "8 -0.328857 -0.210083 -0.499756  0.118774  0.570312  0.052734 -0.073425   \n",
       "9  0.150269  0.739258 -0.541016  0.476562  0.451660  0.203735 -0.246948   \n",
       "\n",
       "        V22       V23       V24       V25       V26       V27       V28  \\\n",
       "0  0.277832 -0.110474  0.066956  0.128540 -0.189087  0.133545 -0.021057   \n",
       "1 -0.638672  0.101318 -0.339844  0.167114  0.125854 -0.008980  0.014725   \n",
       "2  0.771484  0.909180 -0.689453 -0.327637 -0.139038 -0.055359 -0.059753   \n",
       "3  0.005272 -0.190308 -1.175781  0.647461 -0.221924  0.062744  0.061462   \n",
       "4  0.798340 -0.137451  0.141235 -0.206055  0.502441  0.219482  0.215210   \n",
       "5 -0.560059 -0.026398 -0.371338 -0.232788  0.105896  0.253906  0.081055   \n",
       "6 -0.270752 -0.154053 -0.780273  0.750000 -0.257324  0.034515  0.005169   \n",
       "7 -1.015625  0.057495 -0.649902 -0.415283 -0.051636 -1.207031 -1.084961   \n",
       "8 -0.268066 -0.204224  1.011719  0.373291 -0.384277  0.011749  0.142456   \n",
       "9 -0.633789 -0.120789 -0.385010 -0.069763  0.094177  0.246216  0.083069   \n",
       "\n",
       "       Amount  Class  \n",
       "0  149.625000      0  \n",
       "1    2.689453      0  \n",
       "2  378.750000      0  \n",
       "3  123.500000      0  \n",
       "4   70.000000      0  \n",
       "5    3.669922      0  \n",
       "6    4.988281      0  \n",
       "7   40.812500      0  \n",
       "8   93.187500      0  \n",
       "9    3.679688      0  "
      ]
     },
     "execution_count": 123,
     "metadata": {},
     "output_type": "execute_result"
    }
   ],
   "source": [
    "df.head(10)"
   ]
  },
  {
   "cell_type": "code",
   "execution_count": 164,
   "metadata": {},
   "outputs": [],
   "source": [
    "X = df[df.columns[:-1]]"
   ]
  },
  {
   "cell_type": "code",
   "execution_count": 137,
   "metadata": {},
   "outputs": [],
   "source": [
    "y = df['Class']"
   ]
  },
  {
   "cell_type": "code",
   "execution_count": 170,
   "metadata": {},
   "outputs": [],
   "source": [
    "X_train, X_test, y_train, y_test = train_test_split(X, y, test_size=0.3, random_state=100, stratify=y)"
   ]
  },
  {
   "cell_type": "code",
   "execution_count": 172,
   "metadata": {},
   "outputs": [
    {
     "data": {
      "text/plain": [
       "(199364, 30)"
      ]
     },
     "execution_count": 172,
     "metadata": {},
     "output_type": "execute_result"
    }
   ],
   "source": [
    "X_train.shape"
   ]
  },
  {
   "cell_type": "code",
   "execution_count": 173,
   "metadata": {},
   "outputs": [
    {
     "data": {
      "text/plain": [
       "(199364,)"
      ]
     },
     "execution_count": 173,
     "metadata": {},
     "output_type": "execute_result"
    }
   ],
   "source": [
    "y_train.shape"
   ]
  },
  {
   "cell_type": "code",
   "execution_count": 174,
   "metadata": {},
   "outputs": [
    {
     "data": {
      "text/plain": [
       "(85443, 30)"
      ]
     },
     "execution_count": 174,
     "metadata": {},
     "output_type": "execute_result"
    }
   ],
   "source": [
    "X_test.shape"
   ]
  },
  {
   "cell_type": "code",
   "execution_count": 175,
   "metadata": {},
   "outputs": [],
   "source": [
    "parameters = [{\"n_estimators\": [10, 15],\n",
    "               \"max_features\": np.arange(3, 5),\n",
    "               \"max_depth\": np.arange(4, 7)}]"
   ]
  },
  {
   "cell_type": "code",
   "execution_count": null,
   "metadata": {},
   "outputs": [],
   "source": [
    "GridSearchCV\n",
    "estimator=RandomForestClassifier(random_state=100),\n",
    "param_grid=parameters,\n",
    "scoring='roc_auc',\n",
    "cv=3."
   ]
  },
  {
   "cell_type": "code",
   "execution_count": 176,
   "metadata": {},
   "outputs": [],
   "source": [
    "clf = GridSearchCV(estimator=RandomForestClassifier(random_state=100),\n",
    "                   param_grid=parameters,\n",
    "                   scoring=\"roc_auc\",\n",
    "                   cv=3)"
   ]
  },
  {
   "cell_type": "code",
   "execution_count": 177,
   "metadata": {},
   "outputs": [
    {
     "data": {
      "text/plain": [
       "GridSearchCV(cv=3, estimator=RandomForestClassifier(random_state=100),\n",
       "             param_grid=[{'max_depth': array([4, 5, 6]),\n",
       "                          'max_features': array([3, 4]),\n",
       "                          'n_estimators': [10, 15]}],\n",
       "             scoring='roc_auc')"
      ]
     },
     "execution_count": 177,
     "metadata": {},
     "output_type": "execute_result"
    }
   ],
   "source": [
    "clf.fit(X_train, y_train)"
   ]
  },
  {
   "cell_type": "code",
   "execution_count": 218,
   "metadata": {
    "scrolled": true
   },
   "outputs": [
    {
     "data": {
      "text/plain": [
       "{'max_depth': 5, 'max_features': 4, 'n_estimators': 15}"
      ]
     },
     "execution_count": 218,
     "metadata": {},
     "output_type": "execute_result"
    }
   ],
   "source": [
    "clf.best_params_"
   ]
  },
  {
   "cell_type": "code",
   "execution_count": 179,
   "metadata": {
    "scrolled": true
   },
   "outputs": [
    {
     "data": {
      "text/plain": [
       "0.9631404210532448"
      ]
     },
     "execution_count": 179,
     "metadata": {},
     "output_type": "execute_result"
    }
   ],
   "source": [
    "clf.best_score_"
   ]
  },
  {
   "cell_type": "code",
   "execution_count": 225,
   "metadata": {},
   "outputs": [],
   "source": [
    "y_pred_proba = clf.predict_proba(X_test)[:, 1]"
   ]
  },
  {
   "cell_type": "code",
   "execution_count": 226,
   "metadata": {},
   "outputs": [
    {
     "data": {
      "text/plain": [
       "array([0.00065102, 0.00037951, 0.00033822, ..., 0.00033822, 0.00065098,\n",
       "       0.00168331])"
      ]
     },
     "execution_count": 226,
     "metadata": {},
     "output_type": "execute_result"
    }
   ],
   "source": [
    "y_pred_proba"
   ]
  },
  {
   "cell_type": "code",
   "execution_count": 188,
   "metadata": {},
   "outputs": [],
   "source": [
    "from sklearn.metrics import roc_auc_score"
   ]
  },
  {
   "cell_type": "code",
   "execution_count": 227,
   "metadata": {},
   "outputs": [
    {
     "data": {
      "text/plain": [
       "0.9436068065838276"
      ]
     },
     "execution_count": 227,
     "metadata": {},
     "output_type": "execute_result"
    }
   ],
   "source": [
    "roc_auc_score(y_test, y_pred_proba_best)"
   ]
  }
 ],
 "metadata": {
  "kernelspec": {
   "display_name": "Python 3",
   "language": "python",
   "name": "python3"
  },
  "language_info": {
   "codemirror_mode": {
    "name": "ipython",
    "version": 3
   },
   "file_extension": ".py",
   "mimetype": "text/x-python",
   "name": "python",
   "nbconvert_exporter": "python",
   "pygments_lexer": "ipython3",
   "version": "3.8.5"
  }
 },
 "nbformat": 4,
 "nbformat_minor": 4
}
